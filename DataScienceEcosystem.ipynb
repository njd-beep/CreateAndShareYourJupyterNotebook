{
 "cells": [
  {
   "cell_type": "markdown",
   "id": "b186850b-ae12-4d5e-8c47-3f02600d5e52",
   "metadata": {},
   "source": [
    "<h1>Data Science Tools and Ecosystem<h1>"
   ]
  },
  {
   "cell_type": "markdown",
   "id": "804be2e2-1809-4249-ab5e-d89600eb34db",
   "metadata": {},
   "source": [
    "In this notebook, Data Science Tools and Ecosystem are summarized."
   ]
  },
  {
   "cell_type": "markdown",
   "id": "013128c4-59c1-4bec-aa1f-2216f51ab124",
   "metadata": {},
   "source": [
    "<B>Objectives</B>"
   ]
  },
  {
   "cell_type": "markdown",
   "id": "fd1ab96c-d383-428b-919d-3c8637101c4f",
   "metadata": {
    "tags": []
   },
   "source": [
    "- List popular languages covered in data science\n",
    "- List popular libraries covered in data science\n",
    "- List popular open-source tools used in data science"
   ]
  },
  {
   "cell_type": "markdown",
   "id": "2f86aa56-d1fe-41c5-a4a3-6fe03032b161",
   "metadata": {},
   "source": [
    "Some of the popular languages that Data Scientists use are:"
   ]
  },
  {
   "cell_type": "markdown",
   "id": "70d4830e-08ef-458b-8dd8-5357c1e5df19",
   "metadata": {
    "tags": []
   },
   "source": [
    "1. Python\n",
    "2. R\n",
    "3. SQL"
   ]
  },
  {
   "cell_type": "markdown",
   "id": "596eab23-f0fb-4a61-a0f6-affa9f1ef840",
   "metadata": {},
   "source": [
    "Some of the commonly used libraries used by Data Scientists include:"
   ]
  },
  {
   "cell_type": "markdown",
   "id": "51df6fb9-c843-4306-be95-19a06e464e36",
   "metadata": {},
   "source": [
    "1. NumPy\n",
    "2. Pandas\n",
    "3. Matplotlib"
   ]
  },
  {
   "cell_type": "markdown",
   "id": "d209c6f7-3de6-4fc4-bf73-92fd9d090506",
   "metadata": {},
   "source": [
    "<table>\n",
    "    <thead>\n",
    "        <tr>\n",
    "            <th>Data Science Tools</th>\n",
    "        </tr>\n",
    "    </thead>\n",
    "    <tbody>\n",
    "        <tr>\n",
    "            <td>Jupyter</td>\n",
    "        </tr>\n",
    "        <tr>\n",
    "            <td>VS Code</td>\n",
    "        </tr>\n",
    "        <tr>\n",
    "            <td>R Studio</td>\n",
    "        </tr>\n",
    "    </tbody>\n",
    "</table>\n",
    "            \n",
    "    "
   ]
  },
  {
   "cell_type": "markdown",
   "id": "07a3a9ab-971b-45ab-ae80-20327bba82f8",
   "metadata": {},
   "source": [
    "<H3>Below are a few examples of evaluating arithmetic expressions in Python.</H3>"
   ]
  },
  {
   "cell_type": "code",
   "execution_count": 10,
   "id": "a14479f3-08f7-4b50-a545-e3845db06379",
   "metadata": {
    "tags": []
   },
   "outputs": [
    {
     "data": {
      "text/plain": [
       "17"
      ]
     },
     "execution_count": 10,
     "metadata": {},
     "output_type": "execute_result"
    }
   ],
   "source": [
    "# This a simple arithmetic expression to mutiply then add integers\n",
    "\n",
    "(3*4)+5"
   ]
  },
  {
   "cell_type": "code",
   "execution_count": 11,
   "id": "92eb2ac5-b3cc-470f-a4ef-b399141968bf",
   "metadata": {
    "tags": []
   },
   "outputs": [
    {
     "data": {
      "text/plain": [
       "3.3333333333333335"
      ]
     },
     "execution_count": 11,
     "metadata": {},
     "output_type": "execute_result"
    }
   ],
   "source": [
    "# This will convert 200 minutes to hours by diving by 60\n",
    "200/60"
   ]
  },
  {
   "cell_type": "markdown",
   "id": "fcdb2e3d-f7ac-4e9c-aa25-87f16bee491e",
   "metadata": {},
   "source": [
    "<h2>Author</h2>\n",
    "Nick DeSelle"
   ]
  },
  {
   "cell_type": "code",
   "execution_count": null,
   "id": "e33252c0-a6de-4aad-98ff-67522952ab48",
   "metadata": {},
   "outputs": [],
   "source": []
  }
 ],
 "metadata": {
  "kernelspec": {
   "display_name": "Python 3 (ipykernel)",
   "language": "python",
   "name": "python3"
  },
  "language_info": {
   "codemirror_mode": {
    "name": "ipython",
    "version": 3
   },
   "file_extension": ".py",
   "mimetype": "text/x-python",
   "name": "python",
   "nbconvert_exporter": "python",
   "pygments_lexer": "ipython3",
   "version": "3.11.5"
  }
 },
 "nbformat": 4,
 "nbformat_minor": 5
}
